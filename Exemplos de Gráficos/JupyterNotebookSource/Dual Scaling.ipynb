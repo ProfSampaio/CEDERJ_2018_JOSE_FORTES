{
 "cells": [
  {
   "cell_type": "markdown",
   "metadata": {},
   "source": [
    "# Cálculo do Dual Scaling em Python"
   ]
  },
  {
   "cell_type": "code",
   "execution_count": 1,
   "metadata": {},
   "outputs": [],
   "source": [
    "#imports necessários \n",
    "import numpy as np\n",
    "import math\n",
    "import matplotlib.pyplot as plt\n",
    "import matplotlib.ticker as mtick\n",
    "import matplotlib.lines as lines"
   ]
  },
  {
   "cell_type": "markdown",
   "metadata": {},
   "source": [
    "## Matriz de Padrão de Respostas F"
   ]
  },
  {
   "cell_type": "code",
   "execution_count": 2,
   "metadata": {},
   "outputs": [],
   "source": [
    "#Matriz de padrão de respostas F\n",
    "F = np.matrix([\n",
    "[1,0,0,0,0,1,0,0,1,0,0,1,1,0,0,1,0,0],\n",
    "[1,0,0,0,0,1,1,0,0,0,0,1,0,1,0,0,0,1],\n",
    "[0,0,1,0,0,1,0,0,1,0,0,1,1,0,0,0,0,1],\n",
    "[0,0,1,0,0,1,0,0,1,0,0,1,1,0,0,1,0,0],\n",
    "[0,1,0,1,0,0,0,1,0,0,1,0,0,0,1,0,1,0],\n",
    "[0,1,0,1,0,0,0,1,0,0,0,1,0,0,1,1,0,0],\n",
    "[0,1,0,0,1,0,0,1,0,1,0,0,1,0,0,0,0,1],\n",
    "[1,0,0,0,0,1,1,0,0,0,0,1,1,0,0,0,0,1],\n",
    "[0,1,0,0,1,0,0,1,0,1,0,0,1,0,0,0,1,0],\n",
    "[1,0,0,0,0,1,0,1,0,0,1,0,1,0,0,0,0,1],\n",
    "[0,1,0,1,0,0,1,0,0,0,0,1,0,1,0,0,1,0],\n",
    "[0,1,0,0,1,0,0,0,1,0,0,1,0,1,0,0,1,0],\n",
    "[0,0,1,0,0,1,0,0,1,0,0,1,0,0,1,1,0,0],\n",
    "[1,0,0,0,0,1,1,0,0,0,1,0,1,0,0,1,0,0],\n",
    "[0,0,1,0,0,1,0,0,1,0,0,1,1,0,0,0,1,0]])\n",
    "\n",
    "#print(F)"
   ]
  },
  {
   "cell_type": "markdown",
   "metadata": {},
   "source": [
    "## Número de Dimensões do Espaço-solução (ns)"
   ]
  },
  {
   "cell_type": "code",
   "execution_count": 3,
   "metadata": {},
   "outputs": [
    {
     "name": "stdout",
     "output_type": "stream",
     "text": [
      "Total de Dimensões:  11 .\n"
     ]
    }
   ],
   "source": [
    "q = 6 #número de questões (categorias)\n",
    "m = F.shape[1] #número de itens\n",
    "n = F.shape[0] #número de transações\n",
    "\n",
    "ns = m - q - 1\n",
    "\n",
    "print('Total de Dimensões: ', ns,'.')"
   ]
  },
  {
   "cell_type": "markdown",
   "metadata": {},
   "source": [
    "## Matriz Diagonal de Linhas (Dr) "
   ]
  },
  {
   "cell_type": "code",
   "execution_count": 4,
   "metadata": {},
   "outputs": [],
   "source": [
    "#Cálculo da Matriz Diagonal de Linhas de F\n",
    "fr = np.sum(F, axis=1)\n",
    "Dr = np.diagflat(fr)\n",
    "\n",
    "#print(Dr)"
   ]
  },
  {
   "cell_type": "code",
   "execution_count": 5,
   "metadata": {},
   "outputs": [],
   "source": [
    "#Cálculo da Matriz Diagonal de Colunas de F\n",
    "fc = np.sum(F, axis=0)\n",
    "Dc = np.diagflat(fc)\n",
    "#print(Dc)"
   ]
  },
  {
   "cell_type": "markdown",
   "metadata": {},
   "source": [
    "## Matriz Resultante (M)"
   ]
  },
  {
   "cell_type": "code",
   "execution_count": 6,
   "metadata": {},
   "outputs": [],
   "source": [
    "Ft = np.transpose(F) #Matriz Transporta de F\n",
    "Dri = np.linalg.inv(Dr) #Matriz Invertida de Dr\n",
    "Dci = np.linalg.inv(Dc) #Matriz Invertida de Dc\n",
    "\n",
    "#Cálculo da Matriz M\n",
    "M = Ft * Dri * F * Dci\n",
    "\n",
    "#print(M)"
   ]
  },
  {
   "cell_type": "markdown",
   "metadata": {},
   "source": [
    "## Autovalores (AD) e Autovetores (AV) de M"
   ]
  },
  {
   "cell_type": "code",
   "execution_count": 7,
   "metadata": {},
   "outputs": [
    {
     "name": "stderr",
     "output_type": "stream",
     "text": [
      "C:\\Program Files\\Anaconda3\\envs\\tcc\\lib\\site-packages\\ipykernel_launcher.py:18: ComplexWarning: Casting complex values to real discards the imaginary part\n",
      "C:\\Program Files\\Anaconda3\\envs\\tcc\\lib\\site-packages\\ipykernel_launcher.py:19: ComplexWarning: Casting complex values to real discards the imaginary part\n"
     ]
    }
   ],
   "source": [
    "#Array de Autovalores (uAD) e Autovetores (uAV) de M.\n",
    "uAD, uAV = np.linalg.eig(M)\n",
    "\n",
    "#Ordenando os Autovalores\n",
    "AD = np.flip(np.sort(uAD, axis=0),0)\n",
    "\n",
    "#np.savetxt('AV_python.txt',uAV.astype(np.float32))\n",
    "\n",
    "#Ordenando os Autovetores em função dos Autovalores\n",
    "uAVt = uAV.T.tolist()\n",
    "AV=[]\n",
    "for r in AD:\n",
    "    #print(n)\n",
    "    ix = uAD.tolist().index(r)\n",
    "    AV.append(uAVt[ix])\n",
    "\n",
    "#convertendo o resultado de um tipo complexo para Float32    \n",
    "AD = AD.astype(np.float32)\n",
    "AV = np.array(AV).T.astype(np.float32)\n",
    "\n",
    "#removendo a primeira dimensão\n",
    "AD = np.delete(AD,0,0)\n",
    "AV = np.delete(AV,0,1)\n",
    "\n",
    "#removendo as demais dimensões que devem ser desconsideradas (de forma que fiquem com dimensão ns)\n",
    "count = ns\n",
    "while count < AD.shape[0]:\n",
    "    AD = np.delete(AD,count,0)\n",
    "    AV = np.delete(AV,count,1)\n",
    "\n",
    "#print(AD)\n",
    "#print(AV)\n",
    "\n"
   ]
  },
  {
   "cell_type": "markdown",
   "metadata": {},
   "source": [
    "## rho"
   ]
  },
  {
   "cell_type": "code",
   "execution_count": 8,
   "metadata": {},
   "outputs": [],
   "source": [
    "# Cálculo da Matriz unidimensional rho\n",
    "rho = []\n",
    "\n",
    "for i in range(ns):\n",
    "    rho.append(math.sqrt(AD.tolist()[i]))\n",
    "\n",
    "rho = np.array(rho)\n",
    "#print(rho)            "
   ]
  },
  {
   "cell_type": "markdown",
   "metadata": {},
   "source": [
    "## Matriz Produto de Hadamard (H)"
   ]
  },
  {
   "cell_type": "code",
   "execution_count": 9,
   "metadata": {},
   "outputs": [],
   "source": [
    "#Calculo da produto de Hadamard de Autovetores * autovetores\n",
    "H = np.multiply(AV,AV)\n",
    "#print(H.astype(np.float32))"
   ]
  },
  {
   "cell_type": "markdown",
   "metadata": {},
   "source": [
    "## Matriz T"
   ]
  },
  {
   "cell_type": "code",
   "execution_count": 10,
   "metadata": {},
   "outputs": [],
   "source": [
    "#Matriz resultante T\n",
    "T = Dc * H\n",
    "\n",
    "#print(T.astype(np.float32))"
   ]
  },
  {
   "cell_type": "markdown",
   "metadata": {},
   "source": [
    "## Matriz Cc"
   ]
  },
  {
   "cell_type": "code",
   "execution_count": 11,
   "metadata": {},
   "outputs": [],
   "source": [
    "sumCols = np.sum(T, axis=0).tolist()[0]\n",
    "#print (sumCols)\n",
    "ft = np.sum(F)\n",
    "Cc = []\n",
    "for i in range(ns):\n",
    "    Cc.append(math.sqrt(ft/sumCols[i]))\n",
    "\n",
    "#print (Cc)    \n"
   ]
  },
  {
   "cell_type": "markdown",
   "metadata": {},
   "source": [
    "## Peso padrão dos Itens (x-normed)"
   ]
  },
  {
   "cell_type": "code",
   "execution_count": 12,
   "metadata": {},
   "outputs": [],
   "source": [
    "#multiplicação da matriz de autovetores pela matrix Cc\n",
    "x_normed = []\n",
    "for r in AV:\n",
    "    x_normed.append(np.multiply(r,Cc))\n",
    "\n",
    "#print (np.array(x_normed))"
   ]
  },
  {
   "cell_type": "markdown",
   "metadata": {},
   "source": [
    "## Peso projetado dos Itens (x-projected)"
   ]
  },
  {
   "cell_type": "code",
   "execution_count": 13,
   "metadata": {},
   "outputs": [],
   "source": [
    "#Resultado Principal do Dual Scaling\n",
    "x_projected = []\n",
    "for r in x_normed:\n",
    "    x_projected.append(np.multiply(r,rho))\n",
    "\n",
    "x_projected = np.array(x_projected)\n",
    "#print (x_projected)"
   ]
  },
  {
   "cell_type": "markdown",
   "metadata": {},
   "source": [
    "## Peso padrão das Transações (y-normed)"
   ]
  },
  {
   "cell_type": "code",
   "execution_count": 14,
   "metadata": {},
   "outputs": [],
   "source": [
    "W = F * x_normed\n",
    "#print (W)\n",
    "y_normed = np.ndarray(shape=(W.shape[0],W.shape[1]), dtype=float)\n",
    "for j in range(W.shape[1]):\n",
    "    for i in range(W.shape[0]):\n",
    "        y_normed.itemset((i,j),W.item(i,j)/(rho.item(j)*fr.item(i)))\n",
    "       \n",
    "#print(y_normed)\n"
   ]
  },
  {
   "cell_type": "markdown",
   "metadata": {},
   "source": [
    "## Peso projetado das Transações (y-projected)"
   ]
  },
  {
   "cell_type": "code",
   "execution_count": 15,
   "metadata": {},
   "outputs": [],
   "source": [
    "y_projected = []\n",
    "for r in y_normed:\n",
    "    y_projected.append(np.multiply(r,rho))\n",
    "\n",
    "y_projected = np.array(y_projected) \n",
    "#print (y_projected)"
   ]
  },
  {
   "cell_type": "markdown",
   "metadata": {},
   "source": [
    "## Calculando Delta (d)"
   ]
  },
  {
   "cell_type": "code",
   "execution_count": 16,
   "metadata": {},
   "outputs": [],
   "source": [
    "d = []\n",
    "s = 100/np.sum(AD)\n",
    "for r in AD:\n",
    "    d.append(s*r)\n",
    "#print(d)"
   ]
  },
  {
   "cell_type": "markdown",
   "metadata": {},
   "source": [
    "## Calculando a Distância entre os Itens (DM)"
   ]
  },
  {
   "cell_type": "code",
   "execution_count": 17,
   "metadata": {},
   "outputs": [],
   "source": [
    "DM = np.ndarray(shape=(x_projected.shape[0],x_projected.shape[0]), dtype=float)\n",
    "for i in range(x_projected.shape[0]):\n",
    "    for j in range(x_projected.shape[0]):\n",
    "        quad_dist = 0\n",
    "        for aux in range(ns):\n",
    "            dist = (x_projected.item((i, aux)) / math.sqrt(fc.item(i)/n)) - (x_projected.item((j, aux)) / math.sqrt(fc.item(j)/n))\n",
    "            quad_dist += (dist * dist)*rho.item(aux)\n",
    "            #if(i == 2 and j== 8):\n",
    "                #print(\"Valor de i = \", i+1)\n",
    "                #print(\"Valor de j = \", j+1)\n",
    "                #print(\"Valor de aux = \", aux+1)\n",
    "                #print((dist * dist)*rho.item(aux))\n",
    "        DM.itemset((i,j),quad_dist)\n",
    "        DM.itemset((j,i),quad_dist)\n",
    "\n",
    "#print(DM)\n",
    "        \n",
    "    "
   ]
  },
  {
   "cell_type": "markdown",
   "metadata": {},
   "source": [
    "## Calculando a Distância entre as transacões (DN)"
   ]
  },
  {
   "cell_type": "code",
   "execution_count": 18,
   "metadata": {},
   "outputs": [],
   "source": [
    "DN = np.ndarray(shape=(y_projected.shape[0],y_projected.shape[0]), dtype=float)\n",
    "for i in range(y_projected.shape[0]):\n",
    "    for j in range(y_projected.shape[0]):\n",
    "        quad_dist = 0\n",
    "        for aux in range(ns):\n",
    "            dist = (y_projected.item((i, aux)) / math.sqrt(fr.item(i)/m)) - (y_projected.item((j, aux)) / math.sqrt(fr.item(j)/m))\n",
    "            #print(i)\n",
    "            #print(j)\n",
    "            #print(aux)\n",
    "            #print((dist * dist)*rho.item(aux))\n",
    "            quad_dist += (dist * dist)*rho.item(aux)\n",
    "        DN.itemset((i,j),quad_dist)\n",
    "        DN.itemset((j,i),quad_dist)\n",
    "\n",
    "#print(DN)\n",
    "        \n",
    "    "
   ]
  },
  {
   "cell_type": "markdown",
   "metadata": {},
   "source": [
    "## Calculando a Distância entre itens e transacões (D)"
   ]
  },
  {
   "cell_type": "code",
   "execution_count": 23,
   "metadata": {},
   "outputs": [],
   "source": [
    "D = np.ndarray(shape=(x_projected.shape[0],y_projected.shape[0]), dtype=float)\n",
    "D2 = np.ndarray(shape=(x_projected.shape[0],y_projected.shape[0]), dtype=float)\n",
    "for i in range(x_projected.shape[0]):\n",
    "    for j in range(y_projected.shape[0]):\n",
    "        quad_dist = 0\n",
    "        for aux in range(ns):\n",
    "            rho2 = rho.item(aux) * rho.item(aux) \n",
    "            sqrtRho = math.sqrt(rho.item(aux))\n",
    "            a2 = (y_projected.item((j, aux)) * y_projected.item((j, aux))) / (fr.item(j)/m)\n",
    "            b2 = (x_projected.item((i, aux)) * x_projected.item((i, aux))) / (fc.item(i)/n)\n",
    "            cos = (y_projected.item((j, aux)) * x_projected.item((i, aux))) / (math.sqrt((fr.item(j)/m)*(fc.item(i)/n)))\n",
    "            #if(i==2 and j==12):\n",
    "                #print(i+1)\n",
    "                #print(j+1)\n",
    "                #print(aux+1)\n",
    "                #print(\"pi = \",(fc.item(i)/n))\n",
    "                #print(\"pj = \",(fr.item(j)/m))\n",
    "                #print(\"fci = \",(fc.item(i)))\n",
    "                #print(\"Py2 = \",(y_projected.item((j, aux)) * y_projected.item((j, aux))))\n",
    "                #print(\"Px2 = \",x_projected.item((i, aux))*x_projected.item((i, aux)))\n",
    "                #print(\"Rho2 = \",rho2)\n",
    "                #print(\"a2 = \",a2)\n",
    "                #print(\"b2 =\",b2)\n",
    "                #print(\"cos = \",cos)\n",
    "                #print(\"dist parcial = \",rho.item(aux) * (a2 + b2 - ((2*sqrtRho) * cos)))\n",
    "            quad_dist += rho.item(aux) * (a2 + b2 - ((2*sqrtRho) * cos))\n",
    "        D.itemset((i,j),quad_dist)\n",
    "        D2.itemset((i,j),math.sqrt(quad_dist))\n",
    "        #D.itemset((j,i),quad_dist)\n",
    "\n",
    "#print(D)"
   ]
  },
  {
   "cell_type": "markdown",
   "metadata": {},
   "source": [
    "## Gráfico solução para as duas primeiras dimensões da solução"
   ]
  },
  {
   "cell_type": "code",
   "execution_count": 24,
   "metadata": {},
   "outputs": [
    {
     "name": "stderr",
     "output_type": "stream",
     "text": [
      "C:\\Program Files\\Anaconda3\\envs\\tcc\\lib\\site-packages\\matplotlib\\cbook\\deprecation.py:106: MatplotlibDeprecationWarning: Adding an axes using the same arguments as a previous axes currently reuses the earlier instance.  In a future version, a new instance will always be created and returned.  Meanwhile, this warning can be suppressed, and the future behavior ensured, by passing a unique label to each axes instance.\n",
      "  warnings.warn(message, mplDeprecation, stacklevel=1)\n"
     ]
    },
    {
     "data": {
      "image/png": "[encoded data removed]",
      "text/plain": [
       "<matplotlib.figure.Figure at 0x1ffad9a7550>"
      ]
     },
     "metadata": {},
     "output_type": "display_data"
    }
   ],
   "source": [
    "itens = ['Pressão Baixa','Pressão Mediana','Pressão Alta','Enxaquecas Raras','Enxaquecas Esporádicas','Enxaquecas Frequentes','Jovem','Meia Idade','Idoso','Ansiedade Baixa','Ansiedade Média','Ansiedade Alta','Leve','Peso Mediano','Pesado','Baixo','Estatura Média','Alto']\n",
    "transacoes = ['trans.1','trans.2','trans.3','trans.4','trans.5','trans.6','trans.7','trans.8','trans.9','trans.10','trans.11','trans.12','trans.13','trans.14','trans.15']\n",
    "\n",
    "\n",
    "#Array de coordenadas x - Itens\n",
    "xD = x_projected.T.tolist()[0]\n",
    "#Array de coordenadas y - Itens\n",
    "yD = x_projected.T.tolist()[1]\n",
    "\n",
    "#Array de coordenadas x - Transacoes\n",
    "xY = y_projected.T.tolist()[0]\n",
    "#Array de coordenadas y - Transacoes\n",
    "yY = y_projected.T.tolist()[1]\n",
    "\n",
    "#definido o tamanho do gráfico\n",
    "fig = plt.figure(figsize=(10, 7), dpi=100)\n",
    "ax = fig.add_subplot(111)\n",
    "ax2 = fig.add_subplot(111)\n",
    "\n",
    "\n",
    "#plotando o gráfico de dispersão baseado em x e y, customizando a representação dos pontos\n",
    "ax.scatter(xD,yD,s=100, marker='v',zorder=10,facecolors='white', linewidths=0.5, color='black')\n",
    "\n",
    "ax2.scatter(xY,yY,s=50, marker='s',zorder=10,facecolors='black', linewidths=0.5, color='black')\n",
    "\n",
    "#Label do eixo y\n",
    "plt.ylabel(\"Valores\")\n",
    "\n",
    "#título do gráfico\n",
    "plt.title(\"Solução do Cálculo de Dual Scaling\\npara as Duas Primeiras Dimensões\")\n",
    "\n",
    "# adicionar linhas de grid no fundo do gráfico\n",
    "plt.grid(which='both',alpha=0.5, linestyle=\"dashed\", zorder=1)\n",
    "\n",
    "#adicionando uma linha mais grossa para os eixos x e y\n",
    "ax.axhline(y=0, color='k', zorder=2)\n",
    "ax.axvline(x=0, color='k', zorder=2)\n",
    "\n",
    "#inserindo os nomes dos itens em cada um dos pontos\n",
    "for i,j,d in zip(xD,yD,itens):\n",
    "    ax.annotate(d, xy=(i,j), xytext=(5,-3), textcoords='offset points', size=8, zorder=20)\n",
    "    \n",
    "#inserindo os nomes das transações em cada um dos pontos\n",
    "for i,j,d in zip(xY,yY,transacoes):\n",
    "    ax.annotate(d, xy=(i,j), xytext=(5,-3), textcoords='offset points', size=8, zorder=20)    \n",
    "    \n",
    "#Criando as linhas que conectam os itens das 3 primeiras categorias (conectando todas fica muito confuso)\n",
    "for e in range(0,5,3):    \n",
    "    line1 = [(xD[e],yD[e]), (xD[e+1],yD[e+1])]\n",
    "    line2 = [(xD[e+1],yD[e+1]), (xD[e+2],yD[e+2])]\n",
    "    line3 = [(xD[e+2],yD[e+2]), (xD[e],yD[e])]\n",
    "    \n",
    "    (line1_xs, line1_ys) = zip(*line1)\n",
    "    (line2_xs, line2_ys) = zip(*line2)\n",
    "    (line3_xs, line3_ys) = zip(*line3)\n",
    "    \n",
    "    ax.add_line(lines.Line2D(line1_xs, line1_ys, linewidth=0.3, color='k', zorder=5))\n",
    "    ax.add_line(lines.Line2D(line2_xs, line2_ys, linewidth=0.3, color='k', zorder=5))\n",
    "    ax.add_line(lines.Line2D(line3_xs, line3_ys, linewidth=0.3, color='k', zorder=5))\n",
    "    \n",
    "    plt.plot()    \n",
    "\n",
    "#exibindo o gráfico\n",
    "plt.show()\n",
    "fig.savefig('Imagens/SolucaoAnalise.svg', format='svg', dpi=1200,bbox_inches='tight') "
   ]
  },
  {
   "cell_type": "code",
   "execution_count": null,
   "metadata": {},
   "outputs": [],
   "source": []
  }
 ],
 "metadata": {
  "kernelspec": {
   "display_name": "Python 3",
   "language": "python",
   "name": "python3"
  },
  "language_info": {
   "codemirror_mode": {
    "name": "ipython",
    "version": 3
   },
   "file_extension": ".py",
   "mimetype": "text/x-python",
   "name": "python",
   "nbconvert_exporter": "python",
   "pygments_lexer": "ipython3",
   "version": "3.6.4"
  }
 },
 "nbformat": 4,
 "nbformat_minor": 2
}
